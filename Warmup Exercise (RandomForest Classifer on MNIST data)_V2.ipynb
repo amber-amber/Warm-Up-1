{
 "cells": [
  {
   "cell_type": "code",
   "execution_count": 1,
   "metadata": {
    "collapsed": true
   },
   "outputs": [],
   "source": [
    "from sklearn.datasets import fetch_mldata"
   ]
  },
  {
   "cell_type": "code",
   "execution_count": 40,
   "metadata": {},
   "outputs": [],
   "source": [
    "mnist=fetch_mldata('MNIST original')"
   ]
  },
  {
   "cell_type": "markdown",
   "metadata": {},
   "source": [
    "mnist.data.shape"
   ]
  },
  {
   "cell_type": "code",
   "execution_count": 5,
   "metadata": {},
   "outputs": [
    {
     "data": {
      "text/plain": [
       "(70000, 784)"
      ]
     },
     "execution_count": 5,
     "metadata": {},
     "output_type": "execute_result"
    }
   ],
   "source": [
    "mnist.data.shape"
   ]
  },
  {
   "cell_type": "code",
   "execution_count": 7,
   "metadata": {},
   "outputs": [
    {
     "data": {
      "text/plain": [
       "['data', 'COL_NAMES', 'DESCR', 'target']"
      ]
     },
     "execution_count": 7,
     "metadata": {},
     "output_type": "execute_result"
    }
   ],
   "source": [
    "mnist.keys()"
   ]
  },
  {
   "cell_type": "code",
   "execution_count": 9,
   "metadata": {},
   "outputs": [],
   "source": [
    "%matplotlib inline\n",
    "import numpy as np\n",
    "import matplotlib.pyplot as plt\n",
    "from sklearn.model_selection import train_test_split\n",
    "from sklearn.ensemble import RandomForestClassifier"
   ]
  },
  {
   "cell_type": "code",
   "execution_count": 10,
   "metadata": {
    "collapsed": true
   },
   "outputs": [],
   "source": [
    "X,y = mnist.data, mnist.target"
   ]
  },
  {
   "cell_type": "code",
   "execution_count": 11,
   "metadata": {
    "collapsed": true
   },
   "outputs": [],
   "source": [
    "X_train, X_test, y_train, y_test = train_test_split(X,y)\n",
    "#test_size is 25% of the data "
   ]
  },
  {
   "cell_type": "code",
   "execution_count": 14,
   "metadata": {},
   "outputs": [
    {
     "data": {
      "text/plain": [
       "0.96885714285714286"
      ]
     },
     "execution_count": 14,
     "metadata": {},
     "output_type": "execute_result"
    }
   ],
   "source": [
    "#Fitting a Random Forest classifier with 200 trees to the MNIST data \n",
    "#show the accuracy \n",
    "rf_200 = RandomForestClassifier(n_estimators=200)\n",
    "rfc_model_200 = rf_200.fit(X_train, y_train)\n",
    "rf_200.score(X_test,y_test)"
   ]
  },
  {
   "cell_type": "code",
   "execution_count": 13,
   "metadata": {},
   "outputs": [
    {
     "data": {
      "text/plain": [
       "0.96760000000000002"
      ]
     },
     "execution_count": 13,
     "metadata": {},
     "output_type": "execute_result"
    }
   ],
   "source": [
    "#With 100 trees \n",
    "rf_100 = RandomForestClassifier(n_estimators=100)\n",
    "rf_100.fit(X_train, y_train)\n",
    "rf_100.score(X_test, y_test)"
   ]
  },
  {
   "cell_type": "code",
   "execution_count": 15,
   "metadata": {},
   "outputs": [
    {
     "data": {
      "text/plain": [
       "array([  0.00000000e+00,   0.00000000e+00,   0.00000000e+00,\n",
       "         0.00000000e+00,   0.00000000e+00,   0.00000000e+00,\n",
       "         0.00000000e+00,   0.00000000e+00,   0.00000000e+00,\n",
       "         0.00000000e+00,   0.00000000e+00,   0.00000000e+00,\n",
       "         0.00000000e+00,   0.00000000e+00,   0.00000000e+00,\n",
       "         0.00000000e+00,   0.00000000e+00,   0.00000000e+00,\n",
       "         0.00000000e+00,   0.00000000e+00,   0.00000000e+00,\n",
       "         0.00000000e+00,   0.00000000e+00,   0.00000000e+00,\n",
       "         0.00000000e+00,   0.00000000e+00,   0.00000000e+00,\n",
       "         0.00000000e+00,   0.00000000e+00,   0.00000000e+00,\n",
       "         0.00000000e+00,   0.00000000e+00,   0.00000000e+00,\n",
       "         0.00000000e+00,   0.00000000e+00,   2.08209444e-07,\n",
       "         8.12837994e-07,   1.34080941e-06,   3.93755795e-06,\n",
       "         2.51399532e-06,   6.47928500e-06,   9.06078068e-07,\n",
       "         2.70493465e-06,   4.89518965e-06,   3.66077407e-06,\n",
       "         2.60577769e-06,   2.15888084e-06,   9.20800003e-07,\n",
       "         9.78757456e-07,   3.51436803e-07,   1.02251835e-06,\n",
       "         2.08434565e-07,   0.00000000e+00,   0.00000000e+00,\n",
       "         0.00000000e+00,   0.00000000e+00,   0.00000000e+00,\n",
       "         0.00000000e+00,   0.00000000e+00,   6.99765722e-07,\n",
       "         0.00000000e+00,   0.00000000e+00,   4.14132723e-07,\n",
       "         5.69111399e-06,   1.35105511e-05,   4.70669021e-05,\n",
       "         1.05595077e-04,   1.17046856e-04,   2.22776533e-04,\n",
       "         2.86284122e-04,   1.04193466e-04,   1.12247922e-04,\n",
       "         1.50243376e-04,   5.33201160e-05,   5.97758516e-05,\n",
       "         5.29189703e-05,   5.58048436e-05,   1.66271883e-05,\n",
       "         4.51724628e-06,   2.94164290e-06,   9.35200285e-07,\n",
       "         0.00000000e+00,   0.00000000e+00,   0.00000000e+00,\n",
       "         0.00000000e+00,   0.00000000e+00,   2.08467292e-07,\n",
       "         1.90555209e-07,   6.20891473e-07,   3.19584282e-06,\n",
       "         1.34808739e-05,   1.87377217e-05,   7.20068501e-05,\n",
       "         1.76682833e-04,   2.83815961e-04,   3.84325418e-04,\n",
       "         6.79798797e-04,   8.14086780e-04,   1.16988538e-03,\n",
       "         2.64594094e-03,   2.03470967e-03,   1.65095825e-03,\n",
       "         1.28536041e-03,   7.10462806e-04,   4.57944923e-04,\n",
       "         1.68747160e-04,   5.19093815e-05,   2.90138640e-05,\n",
       "         1.20343604e-05,   1.29567666e-06,   1.71005235e-07,\n",
       "         0.00000000e+00,   0.00000000e+00,   0.00000000e+00,\n",
       "         1.87609241e-07,   7.95198717e-07,   4.69164636e-06,\n",
       "         7.94153856e-06,   3.19136324e-05,   7.48737233e-05,\n",
       "         1.67532193e-04,   3.57185181e-04,   8.05378240e-04,\n",
       "         1.20218240e-03,   1.25457048e-03,   1.94232986e-03,\n",
       "         2.18895268e-03,   1.41790016e-03,   1.77845148e-03,\n",
       "         1.08126544e-03,   7.25547645e-04,   5.33093936e-04,\n",
       "         3.55190981e-04,   2.31712406e-04,   1.40202021e-04,\n",
       "         7.33969514e-05,   4.05577534e-05,   1.78174918e-05,\n",
       "         2.01262962e-07,   0.00000000e+00,   0.00000000e+00,\n",
       "         0.00000000e+00,   7.37553166e-07,   2.42669703e-06,\n",
       "         1.59466908e-05,   4.87411105e-05,   1.08413658e-04,\n",
       "         2.12058297e-04,   5.67145707e-04,   1.07089860e-03,\n",
       "         1.94036335e-03,   3.04342272e-03,   4.12110886e-03,\n",
       "         4.80056244e-03,   6.54265845e-03,   6.52787101e-03,\n",
       "         4.73632536e-03,   3.65207757e-03,   2.11232471e-03,\n",
       "         1.48938924e-03,   1.07430771e-03,   6.94220657e-04,\n",
       "         6.19476274e-04,   3.27821148e-04,   1.19060326e-04,\n",
       "         3.15541784e-05,   2.68124048e-06,   1.69358212e-07,\n",
       "         0.00000000e+00,   0.00000000e+00,   1.24816898e-06,\n",
       "         8.13545171e-06,   3.40802337e-05,   1.10141724e-04,\n",
       "         2.25011253e-04,   5.43597924e-04,   1.18614255e-03,\n",
       "         1.55915397e-03,   2.23125131e-03,   2.77254025e-03,\n",
       "         2.38993022e-03,   3.02685239e-03,   3.80930770e-03,\n",
       "         4.62764867e-03,   3.41462108e-03,   2.77857154e-03,\n",
       "         1.79540717e-03,   1.88245190e-03,   1.58470028e-03,\n",
       "         1.30796257e-03,   1.31475202e-03,   9.48271047e-04,\n",
       "         4.81509605e-04,   6.24223949e-05,   1.13384627e-05,\n",
       "         2.47442469e-06,   0.00000000e+00,   2.07151304e-07,\n",
       "         2.56977371e-06,   1.33924123e-05,   7.14770114e-05,\n",
       "         1.54674678e-04,   3.08743835e-04,   6.80882801e-04,\n",
       "         8.56420544e-04,   2.19761179e-03,   2.32183755e-03,\n",
       "         2.77158779e-03,   2.63700366e-03,   3.59870657e-03,\n",
       "         6.05864369e-03,   7.41804346e-03,   4.69943794e-03,\n",
       "         2.76889084e-03,   2.73901694e-03,   2.01892225e-03,\n",
       "         1.88692906e-03,   1.26984575e-03,   1.61072481e-03,\n",
       "         1.07214783e-03,   7.36059227e-04,   1.23928633e-04,\n",
       "         1.81229503e-05,   3.70798206e-06,   0.00000000e+00,\n",
       "         6.14083737e-07,   3.62070989e-06,   2.53886231e-05,\n",
       "         8.69727878e-05,   1.98850241e-04,   4.07287917e-04,\n",
       "         7.12075608e-04,   8.74822052e-04,   1.69313451e-03,\n",
       "         3.42558113e-03,   3.35878638e-03,   2.96621239e-03,\n",
       "         4.02924608e-03,   4.93252911e-03,   4.94768617e-03,\n",
       "         4.37621631e-03,   3.37908366e-03,   3.40645129e-03,\n",
       "         2.63818113e-03,   2.18236188e-03,   1.60236808e-03,\n",
       "         1.18290900e-03,   1.03659727e-03,   8.13998752e-04,\n",
       "         1.60373484e-04,   2.39781750e-05,   9.87508735e-07,\n",
       "         0.00000000e+00,   6.97318787e-07,   7.87434577e-06,\n",
       "         1.72640230e-05,   8.86887311e-05,   1.94029548e-04,\n",
       "         4.50456163e-04,   9.95816604e-04,   1.38130940e-03,\n",
       "         2.39759494e-03,   2.77850214e-03,   4.80372143e-03,\n",
       "         3.60523093e-03,   3.09329032e-03,   3.65774439e-03,\n",
       "         3.60181190e-03,   3.68532623e-03,   3.84947464e-03,\n",
       "         4.03748255e-03,   3.70102206e-03,   2.66332056e-03,\n",
       "         1.77099349e-03,   9.11052456e-04,   8.33844497e-04,\n",
       "         4.93374436e-04,   1.12173799e-04,   2.05258836e-05,\n",
       "         6.96044565e-07,   0.00000000e+00,   0.00000000e+00,\n",
       "         4.06485847e-06,   3.80053323e-05,   1.07565019e-04,\n",
       "         1.58134297e-04,   5.38602715e-04,   8.68050210e-04,\n",
       "         1.70715560e-03,   3.81877779e-03,   4.42053551e-03,\n",
       "         5.75925446e-03,   2.84203661e-03,   2.94579647e-03,\n",
       "         3.31039961e-03,   3.61698631e-03,   3.84324547e-03,\n",
       "         3.76770389e-03,   4.34474863e-03,   3.58301348e-03,\n",
       "         2.46649894e-03,   1.99743845e-03,   1.27262816e-03,\n",
       "         5.08155730e-04,   2.31541013e-04,   6.41942019e-05,\n",
       "         1.25801336e-05,   1.84569325e-06,   0.00000000e+00,\n",
       "         1.22114565e-06,   6.02457120e-06,   2.05165531e-05,\n",
       "         9.48633999e-05,   2.17283110e-04,   5.82364425e-04,\n",
       "         1.36385683e-03,   2.25146047e-03,   3.87439518e-03,\n",
       "         4.51866535e-03,   5.33112989e-03,   3.84497807e-03,\n",
       "         2.89523452e-03,   4.68598125e-03,   4.10927776e-03,\n",
       "         3.57584091e-03,   3.60808366e-03,   4.43110954e-03,\n",
       "         3.01424392e-03,   2.28394276e-03,   2.27501877e-03,\n",
       "         1.48982798e-03,   5.36407479e-04,   9.92427155e-05,\n",
       "         3.29198899e-05,   9.77362016e-06,   9.93033094e-07,\n",
       "         0.00000000e+00,   0.00000000e+00,   3.10690772e-06,\n",
       "         2.37137884e-05,   8.69806616e-05,   2.15373590e-04,\n",
       "         6.43565096e-04,   1.57846399e-03,   2.35569792e-03,\n",
       "         4.36636610e-03,   6.33242916e-03,   6.12678385e-03,\n",
       "         3.84128853e-03,   5.03964219e-03,   8.84536075e-03,\n",
       "         4.49760384e-03,   3.49082594e-03,   3.61433768e-03,\n",
       "         3.48906866e-03,   2.39739501e-03,   1.66366432e-03,\n",
       "         1.86492838e-03,   2.21955907e-03,   7.22770363e-04,\n",
       "         2.01591217e-04,   2.47447447e-05,   1.05489438e-05,\n",
       "         8.20502190e-07,   0.00000000e+00,   0.00000000e+00,\n",
       "         2.30706413e-06,   2.16154797e-05,   8.42281980e-05,\n",
       "         3.28800240e-04,   1.11667400e-03,   1.61996430e-03,\n",
       "         3.85730593e-03,   4.65299582e-03,   6.36595078e-03,\n",
       "         4.96964140e-03,   4.41446483e-03,   7.27800453e-03,\n",
       "         1.01786094e-02,   4.73302559e-03,   4.33915254e-03,\n",
       "         5.81028244e-03,   3.60866225e-03,   1.48938866e-03,\n",
       "         1.30327966e-03,   1.12664307e-03,   1.94269262e-03,\n",
       "         1.27735450e-03,   1.63201517e-04,   2.35850672e-05,\n",
       "         9.30873543e-06,   0.00000000e+00,   0.00000000e+00,\n",
       "         2.07709483e-07,   1.69068987e-06,   1.12709543e-05,\n",
       "         7.87117029e-05,   4.76818005e-04,   1.29674109e-03,\n",
       "         2.27676968e-03,   3.65760627e-03,   5.20997542e-03,\n",
       "         5.95597386e-03,   4.86931318e-03,   4.11867811e-03,\n",
       "         7.18429206e-03,   7.06914907e-03,   4.89779959e-03,\n",
       "         4.30912495e-03,   7.39741873e-03,   3.34080148e-03,\n",
       "         1.53501091e-03,   1.36104448e-03,   1.80101420e-03,\n",
       "         1.74704230e-03,   6.79258664e-04,   1.73514142e-04,\n",
       "         3.60222962e-05,   9.44830427e-06,   4.02807416e-07,\n",
       "         0.00000000e+00,   3.98701576e-07,   4.22833110e-06,\n",
       "         1.72043016e-05,   8.32813080e-05,   4.59620431e-04,\n",
       "         1.11779727e-03,   3.37225580e-03,   5.16523142e-03,\n",
       "         3.82177265e-03,   4.42366807e-03,   4.47022063e-03,\n",
       "         5.38943939e-03,   7.61106330e-03,   5.94498442e-03,\n",
       "         3.90671507e-03,   3.72911548e-03,   5.55455289e-03,\n",
       "         3.08497323e-03,   1.53923932e-03,   1.55079852e-03,\n",
       "         2.21891173e-03,   1.38085848e-03,   6.06787331e-04,\n",
       "         1.44973221e-04,   4.02009955e-05,   1.61467765e-05,\n",
       "         5.85394963e-07,   0.00000000e+00,   2.09749360e-07,\n",
       "         4.35494038e-06,   3.01788239e-05,   1.04636067e-04,\n",
       "         3.88526864e-04,   1.68619272e-03,   3.21439791e-03,\n",
       "         3.72493724e-03,   5.09922710e-03,   4.03010165e-03,\n",
       "         4.63462365e-03,   6.73160243e-03,   7.00225679e-03,\n",
       "         5.26110878e-03,   3.44724300e-03,   2.93194585e-03,\n",
       "         4.56624318e-03,   2.53626581e-03,   2.10708458e-03,\n",
       "         1.56758297e-03,   1.81010170e-03,   1.03856780e-03,\n",
       "         3.63017042e-04,   1.75799266e-04,   5.97372955e-05,\n",
       "         1.26805507e-05,   2.09500670e-06,   0.00000000e+00,\n",
       "         8.30008998e-07,   3.15337400e-06,   4.06189359e-05,\n",
       "         1.42845664e-04,   6.51856077e-04,   1.76748562e-03,\n",
       "         3.17476401e-03,   3.25174468e-03,   3.72490796e-03,\n",
       "         5.58743460e-03,   5.58636164e-03,   5.28755855e-03,\n",
       "         7.57642183e-03,   4.76855106e-03,   3.29759833e-03,\n",
       "         1.74234371e-03,   2.18728235e-03,   2.34745325e-03,\n",
       "         2.12751888e-03,   1.39272460e-03,   8.01531434e-04,\n",
       "         6.09721016e-04,   3.16270954e-04,   2.08639445e-04,\n",
       "         5.58051663e-05,   9.08127632e-06,   5.05832811e-06,\n",
       "         0.00000000e+00,   6.13543278e-07,   6.20488721e-06,\n",
       "         5.53542541e-05,   1.70530830e-04,   6.28800630e-04,\n",
       "         1.21614305e-03,   1.68430629e-03,   2.69511418e-03,\n",
       "         4.41771762e-03,   5.22076296e-03,   6.62660039e-03,\n",
       "         4.14481536e-03,   3.44729381e-03,   2.65289525e-03,\n",
       "         1.81778056e-03,   1.66177352e-03,   2.06902613e-03,\n",
       "         2.75755850e-03,   2.12374275e-03,   1.49061121e-03,\n",
       "         7.46222511e-04,   5.81770885e-04,   3.54869046e-04,\n",
       "         2.01436718e-04,   4.88108611e-05,   9.80606665e-06,\n",
       "         2.02507032e-06,   0.00000000e+00,   2.04606302e-07,\n",
       "         6.80356355e-06,   7.63147283e-05,   2.88516758e-04,\n",
       "         5.34926560e-04,   1.33482168e-03,   2.39870096e-03,\n",
       "         3.97846354e-03,   5.54828200e-03,   5.71213491e-03,\n",
       "         4.80039373e-03,   3.34591718e-03,   2.68029559e-03,\n",
       "         1.97974401e-03,   1.25182957e-03,   1.18140763e-03,\n",
       "         2.31519832e-03,   2.74111562e-03,   2.60617142e-03,\n",
       "         1.79636420e-03,   1.21220233e-03,   6.44960864e-04,\n",
       "         4.65836088e-04,   1.73018934e-04,   2.51183693e-05,\n",
       "         5.24089348e-06,   1.80341642e-06,   0.00000000e+00,\n",
       "         1.81468272e-07,   9.72738448e-06,   8.42293022e-05,\n",
       "         2.55689588e-04,   6.05009044e-04,   1.82923480e-03,\n",
       "         3.73246537e-03,   5.26225072e-03,   5.84264881e-03,\n",
       "         4.22565627e-03,   3.36652329e-03,   2.89884175e-03,\n",
       "         2.49841714e-03,   1.84507835e-03,   1.74611130e-03,\n",
       "         1.39960729e-03,   1.41546405e-03,   3.12185907e-03,\n",
       "         1.85774902e-03,   1.58232939e-03,   9.06977145e-04,\n",
       "         4.97778802e-04,   2.81403448e-04,   1.06904009e-04,\n",
       "         1.47159261e-05,   2.13800618e-06,   0.00000000e+00,\n",
       "         0.00000000e+00,   0.00000000e+00,   3.42227979e-06,\n",
       "         5.18087891e-05,   1.52558050e-04,   4.58726263e-04,\n",
       "         1.24137727e-03,   2.57557063e-03,   4.26507966e-03,\n",
       "         5.06640627e-03,   2.79076925e-03,   1.93408098e-03,\n",
       "         1.51754795e-03,   1.27226818e-03,   1.34515964e-03,\n",
       "         1.18497834e-03,   1.29982684e-03,   1.53639845e-03,\n",
       "         1.59583448e-03,   8.85946366e-04,   8.14624256e-04,\n",
       "         6.41862249e-04,   3.61897638e-04,   1.53232197e-04,\n",
       "         3.32977139e-05,   1.27831627e-05,   1.40653839e-06,\n",
       "         0.00000000e+00,   0.00000000e+00,   0.00000000e+00,\n",
       "         3.47246859e-06,   2.73651778e-05,   1.40216338e-04,\n",
       "         2.45212020e-04,   6.75362496e-04,   1.38616778e-03,\n",
       "         3.06376821e-03,   3.03523061e-03,   2.71768374e-03,\n",
       "         2.23065160e-03,   1.89707696e-03,   1.65460838e-03,\n",
       "         1.60304265e-03,   1.39288515e-03,   1.25119741e-03,\n",
       "         1.09166659e-03,   8.37984717e-04,   6.80229615e-04,\n",
       "         5.10512724e-04,   2.70098390e-04,   1.44858827e-04,\n",
       "         7.49338171e-05,   2.02385605e-05,   5.05188336e-06,\n",
       "         1.58286648e-06,   0.00000000e+00,   0.00000000e+00,\n",
       "         0.00000000e+00,   7.43940604e-07,   1.83879522e-05,\n",
       "         6.51703974e-05,   1.25297652e-04,   3.17038288e-04,\n",
       "         7.05435387e-04,   1.41173380e-03,   2.42457949e-03,\n",
       "         2.67083303e-03,   4.76958511e-03,   4.27572354e-03,\n",
       "         3.82171325e-03,   4.04545063e-03,   2.42828705e-03,\n",
       "         1.93727792e-03,   1.27821683e-03,   6.43426541e-04,\n",
       "         4.26454953e-04,   2.50241783e-04,   1.21258069e-04,\n",
       "         7.84737508e-05,   3.18793583e-05,   1.05899873e-05,\n",
       "         3.52709991e-06,   9.32404225e-07,   0.00000000e+00,\n",
       "         0.00000000e+00,   0.00000000e+00,   2.08040367e-06,\n",
       "         1.46794686e-05,   4.68235897e-05,   9.19195541e-05,\n",
       "         1.95240377e-04,   4.36730295e-04,   7.27831953e-04,\n",
       "         7.68015757e-04,   9.47010822e-04,   1.20083074e-03,\n",
       "         1.43460494e-03,   1.48984820e-03,   1.12430231e-03,\n",
       "         7.11162494e-04,   5.35846934e-04,   4.73784215e-04,\n",
       "         3.17347638e-04,   2.09574417e-04,   1.45038524e-04,\n",
       "         7.20087676e-05,   2.88046174e-05,   2.25292494e-05,\n",
       "         3.54443322e-06,   1.37099115e-06,   0.00000000e+00,\n",
       "         0.00000000e+00,   0.00000000e+00,   0.00000000e+00,\n",
       "         0.00000000e+00,   2.01396018e-06,   1.90357004e-05,\n",
       "         4.80151840e-05,   1.38755873e-04,   2.21931731e-04,\n",
       "         4.41036679e-04,   6.17328636e-04,   7.81752504e-04,\n",
       "         9.08901984e-04,   9.57085521e-04,   9.59515330e-04,\n",
       "         5.29284579e-04,   4.38910480e-04,   4.95505586e-04,\n",
       "         4.29869303e-04,   2.93241901e-04,   1.55828894e-04,\n",
       "         1.10958629e-04,   3.33731271e-05,   1.92443193e-05,\n",
       "         5.34695725e-06,   1.96717844e-06,   3.82463840e-07,\n",
       "         9.84800204e-07,   0.00000000e+00,   0.00000000e+00,\n",
       "         0.00000000e+00,   0.00000000e+00,   0.00000000e+00,\n",
       "         6.32124026e-06,   1.17593058e-05,   1.69273678e-05,\n",
       "         2.73541738e-05,   7.01503138e-05,   1.03067015e-04,\n",
       "         1.53892202e-04,   1.83050161e-04,   2.52563691e-04,\n",
       "         1.16634797e-04,   2.15631727e-04,   1.70144617e-04,\n",
       "         1.18768012e-04,   1.10748972e-04,   7.47428860e-05,\n",
       "         3.88003484e-05,   3.21090152e-05,   9.07779931e-06,\n",
       "         2.48398048e-06,   5.65389918e-07,   2.08741889e-07,\n",
       "         0.00000000e+00,   0.00000000e+00,   0.00000000e+00,\n",
       "         0.00000000e+00,   0.00000000e+00,   0.00000000e+00,\n",
       "         0.00000000e+00,   0.00000000e+00,   0.00000000e+00,\n",
       "         1.09526988e-06,   2.09803941e-07,   1.85431289e-06,\n",
       "         1.62177022e-06,   1.68728352e-06,   2.38169681e-06,\n",
       "         1.25351987e-06,   4.30355815e-06,   9.78840415e-06,\n",
       "         6.24526681e-06,   2.85427679e-06,   3.86011312e-06,\n",
       "         0.00000000e+00,   1.58667553e-06,   1.70815540e-06,\n",
       "         2.34345642e-06,   1.39385925e-06,   0.00000000e+00,\n",
       "         0.00000000e+00,   0.00000000e+00,   0.00000000e+00,\n",
       "         0.00000000e+00])"
      ]
     },
     "execution_count": 15,
     "metadata": {},
     "output_type": "execute_result"
    }
   ],
   "source": [
    "#the feature importance vector for the random forest classifier \n",
    "rfc_model_200.feature_importances_"
   ]
  },
  {
   "cell_type": "code",
   "execution_count": 16,
   "metadata": {},
   "outputs": [
    {
     "data": {
      "text/plain": [
       "(784,)"
      ]
     },
     "execution_count": 16,
     "metadata": {},
     "output_type": "execute_result"
    }
   ],
   "source": [
    "rfc_model_200.feature_importances_.shape"
   ]
  },
  {
   "cell_type": "code",
   "execution_count": 17,
   "metadata": {
    "collapsed": true
   },
   "outputs": [],
   "source": [
    "array_feat_importance = rfc_model_200.feature_importances_.reshape(28,28)"
   ]
  },
  {
   "cell_type": "code",
   "execution_count": 18,
   "metadata": {},
   "outputs": [
    {
     "data": {
      "text/plain": [
       "<matplotlib.image.AxesImage at 0x124f3c050>"
      ]
     },
     "execution_count": 18,
     "metadata": {},
     "output_type": "execute_result"
    },
    {
     "data": {
      "image/png": "[encoded data removed]",
      "text/plain": [
       "<matplotlib.figure.Figure at 0x11af7f7d0>"
      ]
     },
     "metadata": {},
     "output_type": "display_data"
    }
   ],
   "source": [
    "plt.imshow(array_feat_importance, cmap=plt.cm.binary)"
   ]
  },
  {
   "cell_type": "code",
   "execution_count": 21,
   "metadata": {},
   "outputs": [
    {
     "data": {
      "image/png": "[encoded data removed]",
      "text/plain": [
       "<matplotlib.figure.Figure at 0x11b355810>"
      ]
     },
     "metadata": {},
     "output_type": "display_data"
    }
   ],
   "source": [
    "#here are the first 81 digits\n",
    "fig = plt.figure(figsize=(6, 6))  \n",
    "fig.subplots_adjust(left=0, right=1, bottom=0, top=1, hspace=0.05, wspace=0.05)\n",
    "\n",
    "for i in range(81):\n",
    "    ax = fig.add_subplot(9, 9, i + 1, xticks=[], yticks=[])\n",
    "    ax.imshow(mnist.data[i].reshape(28,28), cmap=plt.cm.binary, interpolation='nearest')\n",
    "    ax.text(0, 7, str(mnist.target[i]))"
   ]
  },
  {
   "cell_type": "code",
   "execution_count": 25,
   "metadata": {
    "collapsed": true
   },
   "outputs": [],
   "source": [
    "#wait, this might be ordered, so let's check...\n",
    "check_vector = mnist.target[8000:10500]"
   ]
  },
  {
   "cell_type": "code",
   "execution_count": 26,
   "metadata": {},
   "outputs": [
    {
     "data": {
      "text/plain": [
       "2500"
      ]
     },
     "execution_count": 26,
     "metadata": {},
     "output_type": "execute_result"
    }
   ],
   "source": [
    "len(check_vector)"
   ]
  },
  {
   "cell_type": "code",
   "execution_count": 27,
   "metadata": {},
   "outputs": [
    {
     "name": "stdout",
     "output_type": "stream",
     "text": [
      "[[ 1.  1.  1. ...,  1.  1.  1.]\n",
      " [ 1.  1.  1. ...,  1.  1.  1.]\n",
      " [ 1.  1.  1. ...,  1.  1.  1.]\n",
      " ..., \n",
      " [ 1.  1.  1. ...,  1.  1.  1.]\n",
      " [ 1.  1.  1. ...,  1.  1.  1.]\n",
      " [ 1.  1.  1. ...,  1.  1.  1.]]\n"
     ]
    }
   ],
   "source": [
    "print(check_vector.reshape(50,50))"
   ]
  },
  {
   "cell_type": "code",
   "execution_count": 28,
   "metadata": {
    "collapsed": true
   },
   "outputs": [],
   "source": [
    "#we should have shuffled in the train_test_split method\n",
    "train_X, test_X, train_y, test_y = train_test_split(X,y,random_state=42)"
   ]
  },
  {
   "cell_type": "code",
   "execution_count": 30,
   "metadata": {},
   "outputs": [
    {
     "name": "stdout",
     "output_type": "stream",
     "text": [
      "[[ 5.  8.  8. ...,  6.  3.  9.]\n",
      " [ 0.  1.  9. ...,  0.  4.  5.]\n",
      " [ 0.  1.  2. ...,  3.  0.  9.]\n",
      " ..., \n",
      " [ 8.  8.  3. ...,  5.  0.  8.]\n",
      " [ 4.  4.  1. ...,  7.  6.  0.]\n",
      " [ 6.  6.  1. ...,  4.  3.  6.]]\n"
     ]
    }
   ],
   "source": [
    "#check that this is \"randomly\" split\n",
    "check_vector_2 = train_y[2500:5000]\n",
    "print(check_vector_2.reshape(50,50))"
   ]
  },
  {
   "cell_type": "code",
   "execution_count": 31,
   "metadata": {},
   "outputs": [
    {
     "data": {
      "text/plain": [
       "0.96845714285714291"
      ]
     },
     "execution_count": 31,
     "metadata": {},
     "output_type": "execute_result"
    }
   ],
   "source": [
    "#fitting the RandomForestClassifier with 200 trees to the training data \n",
    "#show the accuracy \n",
    "rf_200 = RandomForestClassifier(n_estimators=200)\n",
    "rfc_model_200 = rf_200.fit(X_train, y_train)\n",
    "rf_200.score(X_test,y_test)"
   ]
  },
  {
   "cell_type": "code",
   "execution_count": 32,
   "metadata": {
    "collapsed": true
   },
   "outputs": [],
   "source": [
    "array_feat_importance = rfc_model_200.feature_importances_.reshape(28,28)"
   ]
  },
  {
   "cell_type": "code",
   "execution_count": 33,
   "metadata": {},
   "outputs": [
    {
     "data": {
      "text/plain": [
       "<matplotlib.image.AxesImage at 0x117a88090>"
      ]
     },
     "execution_count": 33,
     "metadata": {},
     "output_type": "execute_result"
    },
    {
     "data": {
      "image/png": "[encoded data removed]",
      "text/plain": [
       "<matplotlib.figure.Figure at 0x12dcf6b90>"
      ]
     },
     "metadata": {},
     "output_type": "display_data"
    }
   ],
   "source": [
    "plt.imshow(array_feat_importance, cmap=plt.cm.binary)\n",
    "#visualizing feature importance with the shuffled data "
   ]
  },
  {
   "cell_type": "code",
   "execution_count": 34,
   "metadata": {
    "collapsed": true
   },
   "outputs": [],
   "source": [
    "#What if we stratify y? \n",
    "train_X, test_X, train_y, test_y = train_test_split(X,y,random_state=88, stratify=y)"
   ]
  },
  {
   "cell_type": "code",
   "execution_count": 35,
   "metadata": {},
   "outputs": [
    {
     "data": {
      "text/plain": [
       "0.96845714285714291"
      ]
     },
     "execution_count": 35,
     "metadata": {},
     "output_type": "execute_result"
    }
   ],
   "source": [
    "rf_200 = RandomForestClassifier(n_estimators=200)\n",
    "rfc_model_200 = rf_200.fit(X_train, y_train)\n",
    "rf_200.score(X_test,y_test)\n",
    "\n",
    "#but this is exactly the same accurancy as before?! "
   ]
  },
  {
   "cell_type": "code",
   "execution_count": 36,
   "metadata": {},
   "outputs": [
    {
     "data": {
      "text/plain": [
       "<matplotlib.image.AxesImage at 0x11b97b0d0>"
      ]
     },
     "execution_count": 36,
     "metadata": {},
     "output_type": "execute_result"
    },
    {
     "data": {
      "image/png": "[encoded data removed]",
      "text/plain": [
       "<matplotlib.figure.Figure at 0x12de1f950>"
      ]
     },
     "metadata": {},
     "output_type": "display_data"
    }
   ],
   "source": [
    "array_feat_importance = rfc_model_200.feature_importances_.reshape(28,28)\n",
    "plt.imshow(array_feat_importance, cmap=plt.cm.binary)"
   ]
  },
  {
   "cell_type": "code",
   "execution_count": 41,
   "metadata": {},
   "outputs": [],
   "source": [
    "#But how could I do this with Logistic regression? Probably not a good idea\n",
    "#There are 784 features, each corresponding to a pixel \n",
    "#But I would need to make each 0 or 1... instead of the continuous value it already takes on\n",
    "from sklearn.linear_model import LogisticRegression \n",
    "binary_mnist = mnist.data.copy()\n",
    "for i in range(70000):\n",
    "    for j in range(784):\n",
    "        if binary_mnist[i,j] > .2: #Just randomly chose a cutoff... \n",
    "            binary_mnist[i,j] = 1\n",
    "        else: \n",
    "            binary_mnist[i,j]=0   "
   ]
  },
  {
   "cell_type": "code",
   "execution_count": 43,
   "metadata": {
    "collapsed": true
   },
   "outputs": [],
   "source": [
    "X_train_2, X_test_2, y_train_2, y_test_2 = train_test_split(binary_mnist,y,random_state=11)"
   ]
  },
  {
   "cell_type": "code",
   "execution_count": 44,
   "metadata": {
    "collapsed": true
   },
   "outputs": [],
   "source": [
    "lr=LogisticRegression().fit(X_train_2,y_train_2)"
   ]
  },
  {
   "cell_type": "code",
   "execution_count": 45,
   "metadata": {},
   "outputs": [
    {
     "data": {
      "text/plain": [
       "0.9095428571428571"
      ]
     },
     "execution_count": 45,
     "metadata": {},
     "output_type": "execute_result"
    }
   ],
   "source": [
    "#And the accuracy of the model is much lower than that of the RandomForestClassifier\n",
    "lr.score(X_test_2, y_test_2)"
   ]
  },
  {
   "cell_type": "code",
   "execution_count": 47,
   "metadata": {},
   "outputs": [],
   "source": [
    "#Finding the best parameters for the RandomForestClassifier \n",
    "from sklearn.model_selection import GridSearchCV "
   ]
  },
  {
   "cell_type": "code",
   "execution_count": 49,
   "metadata": {},
   "outputs": [],
   "source": [
    "parameters = {'n_estimators':[100,150,200],'max_features':['sqrt', 'log2', 10],\n",
    "              'max_depth':[5, 7, 9]}\n",
    "grid = GridSearchCV(RandomForestClassifier(),parameters, n_jobs=-1)"
   ]
  },
  {
   "cell_type": "code",
   "execution_count": 51,
   "metadata": {},
   "outputs": [
    {
     "data": {
      "text/plain": [
       "GridSearchCV(cv=None, error_score='raise',\n",
       "       estimator=RandomForestClassifier(bootstrap=True, class_weight=None, criterion='gini',\n",
       "            max_depth=None, max_features='auto', max_leaf_nodes=None,\n",
       "            min_impurity_split=1e-07, min_samples_leaf=1,\n",
       "            min_samples_split=2, min_weight_fraction_leaf=0.0,\n",
       "            n_estimators=10, n_jobs=1, oob_score=False, random_state=None,\n",
       "            verbose=0, warm_start=False),\n",
       "       fit_params={}, iid=True, n_jobs=-1,\n",
       "       param_grid={'n_estimators': [100, 150, 200], 'max_features': ['sqrt', 'log2', 10], 'max_depth': [5, 7, 9]},\n",
       "       pre_dispatch='2*n_jobs', refit=True, return_train_score=True,\n",
       "       scoring=None, verbose=0)"
      ]
     },
     "execution_count": 51,
     "metadata": {},
     "output_type": "execute_result"
    }
   ],
   "source": [
    "grid.fit(X_train, y_train)"
   ]
  },
  {
   "cell_type": "code",
   "execution_count": 52,
   "metadata": {},
   "outputs": [
    {
     "data": {
      "text/plain": [
       "0.93594285714285719"
      ]
     },
     "execution_count": 52,
     "metadata": {},
     "output_type": "execute_result"
    }
   ],
   "source": [
    "grid.score(X_test, y_test) #why is this lower than just the 200 trees randomforestclassifier (and no other specifications)"
   ]
  },
  {
   "cell_type": "code",
   "execution_count": 53,
   "metadata": {},
   "outputs": [
    {
     "data": {
      "text/plain": [
       "{'max_depth': 9, 'max_features': 'sqrt', 'n_estimators': 200}"
      ]
     },
     "execution_count": 53,
     "metadata": {},
     "output_type": "execute_result"
    }
   ],
   "source": [
    "grid.best_params_"
   ]
  },
  {
   "cell_type": "code",
   "execution_count": null,
   "metadata": {
    "collapsed": true
   },
   "outputs": [],
   "source": [
    " "
   ]
  }
 ],
 "metadata": {
  "kernelspec": {
   "display_name": "Python 2",
   "language": "python",
   "name": "python2"
  },
  "language_info": {
   "codemirror_mode": {
    "name": "ipython",
    "version": 2
   },
   "file_extension": ".py",
   "mimetype": "text/x-python",
   "name": "python",
   "nbconvert_exporter": "python",
   "pygments_lexer": "ipython2",
   "version": "2.7.13"
  }
 },
 "nbformat": 4,
 "nbformat_minor": 2
}
